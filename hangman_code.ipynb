{
 "cells": [
  {
   "cell_type": "code",
   "execution_count": 1,
   "metadata": {},
   "outputs": [],
   "source": [
    "import random\n",
    "import re"
   ]
  },
  {
   "cell_type": "code",
   "execution_count": 2,
   "metadata": {},
   "outputs": [],
   "source": [
    "countries = [\"germany\", \"australia\", \"indonesia\", \"angola\", \"canada\", \"portugal\", \"spain\", \"jamaica\", \"bhutan\", \"nepal\", \"togo\", \"algeria\", \"jordan\", \"samoa\", \"zimbabwe\"]"
   ]
  },
  {
   "cell_type": "code",
   "execution_count": 3,
   "metadata": {},
   "outputs": [],
   "source": [
    "country_choice = list(random.choice(countries))\n",
    "hidden_choice = [\"_\"] * len(country_choice)\n",
    "#print(country_choice)\n",
    "#print(hidden_choice)\n",
    "\n",
    "country_choice_joined = (\"\".join(country_choice))\n",
    "#print(country_choice_joined)"
   ]
  },
  {
   "cell_type": "code",
   "execution_count": 4,
   "metadata": {},
   "outputs": [],
   "source": [
    "n_guesses = 6"
   ]
  },
  {
   "cell_type": "code",
   "execution_count": 5,
   "metadata": {},
   "outputs": [],
   "source": [
    "def intro():\n",
    "        ask_rules = input(\"We are going to play...\\n \\n \\n          *****HANGMAN!***** \\n \\n \\nDo you know how to play? (yes/no) \")\n",
    "        if ask_rules in {'no'}:\n",
    "            print (\"Ok, let me tell you the rules: \\n    I will choose a country and you will try to guess it, letter by letter. \\n    You have 6 guesses in total. \\n    If you cannot guess the country correctly in 6 guesses, you lose. \\n    If you think you know the country, you can guess it. \\n    If you guess correctly, you win the game! \")\n",
    "        ask_to_play = input(\"Would you like to play? (yes/no) \")\n",
    "        if ask_to_play in {'no'}:\n",
    "            print(\"Oh well, your loss. \")\n",
    "            exit()\n",
    "        else:\n",
    "            print(\"Yay! Let's start! \")\n",
    "            game()\n",
    "\n",
    "    \n"
   ]
  },
  {
   "cell_type": "code",
   "execution_count": 6,
   "metadata": {},
   "outputs": [],
   "source": [
    "def game():\n",
    "    n_guesses = 6\n",
    "    while n_guesses > 0:\n",
    "        response = input(\"Guess a letter! \")\n",
    "        if not re.match(r\"^[a-z]{1}$\", response):\n",
    "            print(\"Only letters are allowed. Please guess a letter. \")\n",
    "        else:\n",
    "            n_guesses -= 1\n",
    "            if response in country_choice:\n",
    "                print (f'Great choice! The letter \"{response}\" is in the word! You have {n_guesses} tries left. ')\n",
    "                for i, j in enumerate(country_choice): \n",
    "                    if j == response:\n",
    "                        hidden_choice[i] = response\n",
    "                print (hidden_choice)\n",
    "                guess_ask = input(\"Would you like to try guessing the whole word? (type yes or no) \")\n",
    "                if guess_ask in {'yes'}:\n",
    "                    guess_word = input(\"Go ahead. \")\n",
    "                    if guess_word.lower() == country_choice_joined.lower():  \n",
    "                        print (\"You won the game! Congrats! You are such a smart cookie. \")\n",
    "                        break #end game\n",
    "                    else:\n",
    "                        print (\"Wrong! You suck at this. Go back to guessing letters. \")\n",
    "\n",
    "                else: \n",
    "                    print (\"Ok, let's keep guessing letters. \")\n",
    "            else:\n",
    "                print (f'Wrong. The letter \"{response}\" is not in the word. You have {n_guesses} tries left. ')\n",
    "                print (hidden_choice)\n",
    "            if n_guesses < 1:\n",
    "                print (\"You lost the game :( \")\n",
    "\n"
   ]
  },
  {
   "cell_type": "code",
   "execution_count": 7,
   "metadata": {},
   "outputs": [
    {
     "name": "stdout",
     "output_type": "stream",
     "text": [
      "We are going to play...\n",
      " \n",
      " \n",
      "          *****HANGMAN!***** \n",
      " \n",
      " \n",
      "Do you know how to play? (yes/no) no\n",
      "Ok, let me tell you the rules: \n",
      "    I will choose a country and you will try to guess it, letter by letter. \n",
      "    You have 6 guesses in total. \n",
      "    If you cannot guess the country correctly in 6 guesses, you lose. \n",
      "    If you think you know the country, you can guess it. \n",
      "    If you guess correctly, you win the game! \n",
      "Would you like to play? (yes/no) yes\n",
      "Yay! Let's start! \n",
      "Guess a letter! t\n",
      "Wrong. The letter \"t\" is not in the word. You have 5 tries left. \n",
      "['_', '_', '_', '_', '_', '_']\n",
      "Guess a letter! a\n",
      "Great choice! The letter \"a\" is in the word! You have 4 tries left. \n",
      "['_', '_', '_', '_', 'a', '_']\n",
      "Would you like to try guessing the whole word? (type yes or no) no\n",
      "Ok, let's keep guessing letters. \n",
      "Guess a letter! n\n",
      "Great choice! The letter \"n\" is in the word! You have 3 tries left. \n",
      "['_', '_', '_', '_', 'a', 'n']\n",
      "Would you like to try guessing the whole word? (type yes or no) no\n",
      "Ok, let's keep guessing letters. \n",
      "Guess a letter! b\n",
      "Wrong. The letter \"b\" is not in the word. You have 2 tries left. \n",
      "['_', '_', '_', '_', 'a', 'n']\n",
      "Guess a letter! j\n",
      "Great choice! The letter \"j\" is in the word! You have 1 tries left. \n",
      "['j', '_', '_', '_', 'a', 'n']\n",
      "Would you like to try guessing the whole word? (type yes or no) yes\n",
      "Go ahead. jordan\n",
      "You won the game! Congrats! You are such a smart cookie. \n"
     ]
    }
   ],
   "source": [
    "intro()"
   ]
  },
  {
   "cell_type": "code",
   "execution_count": null,
   "metadata": {},
   "outputs": [],
   "source": []
  }
 ],
 "metadata": {
  "kernelspec": {
   "display_name": "Python 3",
   "language": "python",
   "name": "python3"
  },
  "language_info": {
   "codemirror_mode": {
    "name": "ipython",
    "version": 3
   },
   "file_extension": ".py",
   "mimetype": "text/x-python",
   "name": "python",
   "nbconvert_exporter": "python",
   "pygments_lexer": "ipython3",
   "version": "3.8.5"
  }
 },
 "nbformat": 4,
 "nbformat_minor": 4
}
